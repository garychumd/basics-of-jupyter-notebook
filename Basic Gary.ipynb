{
 "cells": [
  {
   "cell_type": "code",
   "execution_count": 35,
   "metadata": {},
   "outputs": [
    {
     "name": "stdout",
     "output_type": "stream",
     "text": [
      "Hello World \n"
     ]
    }
   ],
   "source": [
    "hello = \"Hello World \"\n",
    "print(hello)\n"
   ]
  },
  {
   "cell_type": "code",
   "execution_count": 36,
   "metadata": {},
   "outputs": [
    {
     "name": "stdin",
     "output_type": "stream",
     "text": [
      "Enter your name Harrison Chu\n"
     ]
    },
    {
     "name": "stdout",
     "output_type": "stream",
     "text": [
      "Hello World  Harrison Chu\n"
     ]
    }
   ],
   "source": [
    "name = input(\"Enter your name\")\n",
    "print (hello,name)\n"
   ]
  },
  {
   "cell_type": "markdown",
   "metadata": {},
   "source": [
    "# Ploting a simple graph\n"
   ]
  },
  {
   "cell_type": "code",
   "execution_count": 38,
   "metadata": {
    "scrolled": true
   },
   "outputs": [
    {
     "data": {
      "image/png": "[encoded data removed]",
      "text/plain": [
       "<Figure size 432x288 with 1 Axes>"
      ]
     },
     "metadata": {
      "needs_background": "light"
     },
     "output_type": "display_data"
    }
   ],
   "source": [
    "import matplotlib.pyplot as plt\n",
    "plt.plot([1,2,3,4], [1,2,2,4])\n",
    "plt.show()"
   ]
  },
  {
   "cell_type": "code",
   "execution_count": 1,
   "metadata": {},
   "outputs": [],
   "source": [
    "import pandas as pd\n",
    "#import Pandas library. assign it as pd"
   ]
  },
  {
   "cell_type": "code",
   "execution_count": 16,
   "metadata": {},
   "outputs": [],
   "source": [
    "df = pd.read_csv('C:/Users/Gary Chu/Sample.csv')\n",
    "# load the Sample comma separated value faile.  make sure it's in right directory. Make sure to use / and not \\\n",
    "# the file is called df"
   ]
  },
  {
   "cell_type": "code",
   "execution_count": 17,
   "metadata": {},
   "outputs": [
    {
     "data": {
      "text/html": [
       "<div>\n",
       "<style scoped>\n",
       "    .dataframe tbody tr th:only-of-type {\n",
       "        vertical-align: middle;\n",
       "    }\n",
       "\n",
       "    .dataframe tbody tr th {\n",
       "        vertical-align: top;\n",
       "    }\n",
       "\n",
       "    .dataframe thead th {\n",
       "        text-align: right;\n",
       "    }\n",
       "</style>\n",
       "<table border=\"1\" class=\"dataframe\">\n",
       "  <thead>\n",
       "    <tr style=\"text-align: right;\">\n",
       "      <th></th>\n",
       "      <th>Age</th>\n",
       "      <th>Sex</th>\n",
       "      <th>HgbA1c</th>\n",
       "      <th>Troponin</th>\n",
       "      <th>BNP</th>\n",
       "      <th>LVEF</th>\n",
       "      <th>Hypertension</th>\n",
       "      <th>Smoking</th>\n",
       "      <th>30 Day Readmit</th>\n",
       "    </tr>\n",
       "  </thead>\n",
       "  <tbody>\n",
       "    <tr>\n",
       "      <th>0</th>\n",
       "      <td>70</td>\n",
       "      <td>M</td>\n",
       "      <td>5.5</td>\n",
       "      <td>0.03</td>\n",
       "      <td>230</td>\n",
       "      <td>55</td>\n",
       "      <td>Yes</td>\n",
       "      <td>No</td>\n",
       "      <td>No</td>\n",
       "    </tr>\n",
       "    <tr>\n",
       "      <th>1</th>\n",
       "      <td>80</td>\n",
       "      <td>F</td>\n",
       "      <td>6.0</td>\n",
       "      <td>0.02</td>\n",
       "      <td>320</td>\n",
       "      <td>50</td>\n",
       "      <td>Yes</td>\n",
       "      <td>No</td>\n",
       "      <td>No</td>\n",
       "    </tr>\n",
       "    <tr>\n",
       "      <th>2</th>\n",
       "      <td>76</td>\n",
       "      <td>M</td>\n",
       "      <td>6.5</td>\n",
       "      <td>0.04</td>\n",
       "      <td>350</td>\n",
       "      <td>45</td>\n",
       "      <td>Yes</td>\n",
       "      <td>No</td>\n",
       "      <td>No</td>\n",
       "    </tr>\n",
       "    <tr>\n",
       "      <th>3</th>\n",
       "      <td>81</td>\n",
       "      <td>F</td>\n",
       "      <td>6.7</td>\n",
       "      <td>0.02</td>\n",
       "      <td>400</td>\n",
       "      <td>50</td>\n",
       "      <td>Yes</td>\n",
       "      <td>No</td>\n",
       "      <td>No</td>\n",
       "    </tr>\n",
       "    <tr>\n",
       "      <th>4</th>\n",
       "      <td>85</td>\n",
       "      <td>F</td>\n",
       "      <td>6.1</td>\n",
       "      <td>0.02</td>\n",
       "      <td>325</td>\n",
       "      <td>55</td>\n",
       "      <td>Yes</td>\n",
       "      <td>No</td>\n",
       "      <td>No</td>\n",
       "    </tr>\n",
       "  </tbody>\n",
       "</table>\n",
       "</div>"
      ],
      "text/plain": [
       "   Age Sex  HgbA1c  Troponin  BNP  LVEF Hypertension Smoking 30 Day Readmit\n",
       "0   70   M     5.5      0.03  230    55          Yes      No             No\n",
       "1   80   F     6.0      0.02  320    50          Yes      No             No\n",
       "2   76   M     6.5      0.04  350    45          Yes      No             No\n",
       "3   81   F     6.7      0.02  400    50          Yes      No             No\n",
       "4   85   F     6.1      0.02  325    55          Yes      No             No"
      ]
     },
     "execution_count": 17,
     "metadata": {},
     "output_type": "execute_result"
    }
   ],
   "source": [
    "df.head()\n",
    "#show first 5 row"
   ]
  },
  {
   "cell_type": "code",
   "execution_count": 18,
   "metadata": {},
   "outputs": [
    {
     "data": {
      "text/html": [
       "<div>\n",
       "<style scoped>\n",
       "    .dataframe tbody tr th:only-of-type {\n",
       "        vertical-align: middle;\n",
       "    }\n",
       "\n",
       "    .dataframe tbody tr th {\n",
       "        vertical-align: top;\n",
       "    }\n",
       "\n",
       "    .dataframe thead th {\n",
       "        text-align: right;\n",
       "    }\n",
       "</style>\n",
       "<table border=\"1\" class=\"dataframe\">\n",
       "  <thead>\n",
       "    <tr style=\"text-align: right;\">\n",
       "      <th></th>\n",
       "      <th>Age</th>\n",
       "      <th>Sex</th>\n",
       "      <th>HgbA1c</th>\n",
       "      <th>Troponin</th>\n",
       "      <th>BNP</th>\n",
       "      <th>LVEF</th>\n",
       "      <th>Hypertension</th>\n",
       "      <th>Smoking</th>\n",
       "      <th>30 Day Readmit</th>\n",
       "    </tr>\n",
       "  </thead>\n",
       "  <tbody>\n",
       "    <tr>\n",
       "      <th>5</th>\n",
       "      <td>45</td>\n",
       "      <td>M</td>\n",
       "      <td>13.0</td>\n",
       "      <td>1.20</td>\n",
       "      <td>1010</td>\n",
       "      <td>35</td>\n",
       "      <td>Yes</td>\n",
       "      <td>Yes</td>\n",
       "      <td>Yes</td>\n",
       "    </tr>\n",
       "    <tr>\n",
       "      <th>6</th>\n",
       "      <td>50</td>\n",
       "      <td>M</td>\n",
       "      <td>8.0</td>\n",
       "      <td>1.30</td>\n",
       "      <td>890</td>\n",
       "      <td>30</td>\n",
       "      <td>Yes</td>\n",
       "      <td>Yes</td>\n",
       "      <td>Yes</td>\n",
       "    </tr>\n",
       "    <tr>\n",
       "      <th>7</th>\n",
       "      <td>66</td>\n",
       "      <td>F</td>\n",
       "      <td>9.0</td>\n",
       "      <td>1.50</td>\n",
       "      <td>700</td>\n",
       "      <td>40</td>\n",
       "      <td>Yes</td>\n",
       "      <td>No</td>\n",
       "      <td>Yes</td>\n",
       "    </tr>\n",
       "    <tr>\n",
       "      <th>8</th>\n",
       "      <td>68</td>\n",
       "      <td>M</td>\n",
       "      <td>7.2</td>\n",
       "      <td>1.19</td>\n",
       "      <td>1240</td>\n",
       "      <td>45</td>\n",
       "      <td>Yes</td>\n",
       "      <td>No</td>\n",
       "      <td>Yes</td>\n",
       "    </tr>\n",
       "    <tr>\n",
       "      <th>9</th>\n",
       "      <td>55</td>\n",
       "      <td>M</td>\n",
       "      <td>7.9</td>\n",
       "      <td>1.60</td>\n",
       "      <td>2000</td>\n",
       "      <td>45</td>\n",
       "      <td>Yes</td>\n",
       "      <td>No</td>\n",
       "      <td>Yes</td>\n",
       "    </tr>\n",
       "  </tbody>\n",
       "</table>\n",
       "</div>"
      ],
      "text/plain": [
       "   Age Sex  HgbA1c  Troponin   BNP  LVEF Hypertension Smoking 30 Day Readmit\n",
       "5   45   M    13.0      1.20  1010    35          Yes     Yes            Yes\n",
       "6   50   M     8.0      1.30   890    30          Yes     Yes            Yes\n",
       "7   66   F     9.0      1.50   700    40          Yes      No            Yes\n",
       "8   68   M     7.2      1.19  1240    45          Yes      No            Yes\n",
       "9   55   M     7.9      1.60  2000    45          Yes      No            Yes"
      ]
     },
     "execution_count": 18,
     "metadata": {},
     "output_type": "execute_result"
    }
   ],
   "source": [
    "df.tail()\n",
    "#show last 5 row"
   ]
  },
  {
   "cell_type": "code",
   "execution_count": 19,
   "metadata": {},
   "outputs": [
    {
     "name": "stdout",
     "output_type": "stream",
     "text": [
      "<class 'pandas.core.frame.DataFrame'>\n",
      "RangeIndex: 10 entries, 0 to 9\n",
      "Data columns (total 9 columns):\n",
      " #   Column          Non-Null Count  Dtype  \n",
      "---  ------          --------------  -----  \n",
      " 0   Age             10 non-null     int64  \n",
      " 1   Sex             10 non-null     object \n",
      " 2   HgbA1c          10 non-null     float64\n",
      " 3   Troponin        10 non-null     float64\n",
      " 4   BNP             10 non-null     int64  \n",
      " 5   LVEF            10 non-null     int64  \n",
      " 6   Hypertension    10 non-null     object \n",
      " 7   Smoking         10 non-null     object \n",
      " 8   30 Day Readmit  10 non-null     object \n",
      "dtypes: float64(2), int64(3), object(4)\n",
      "memory usage: 848.0+ bytes\n"
     ]
    }
   ],
   "source": [
    "df.info()\n",
    "#show information on the file df"
   ]
  },
  {
   "cell_type": "code",
   "execution_count": 20,
   "metadata": {},
   "outputs": [
    {
     "data": {
      "text/plain": [
       "(10, 9)"
      ]
     },
     "execution_count": 20,
     "metadata": {},
     "output_type": "execute_result"
    }
   ],
   "source": [
    "df.shape\n",
    "#show how many rows and columns"
   ]
  },
  {
   "cell_type": "code",
   "execution_count": 21,
   "metadata": {},
   "outputs": [
    {
     "data": {
      "text/plain": [
       "0    70\n",
       "1    80\n",
       "2    76\n",
       "3    81\n",
       "4    85\n",
       "Name: Age, dtype: int64"
      ]
     },
     "execution_count": 21,
     "metadata": {},
     "output_type": "execute_result"
    }
   ],
   "source": [
    "Age = df['Age']\n",
    "Age.head()"
   ]
  },
  {
   "cell_type": "code",
   "execution_count": 23,
   "metadata": {},
   "outputs": [],
   "source": [
    "BNP = df['BNP']\n",
    "LVEF = df['LVEF']"
   ]
  },
  {
   "cell_type": "code",
   "execution_count": 69,
   "metadata": {},
   "outputs": [
    {
     "data": {
      "text/plain": [
       "<matplotlib.axes._subplots.AxesSubplot at 0x24fadff2c08>"
      ]
     },
     "execution_count": 69,
     "metadata": {},
     "output_type": "execute_result"
    },
    {
     "data": {
      "image/png": "[encoded data removed]",
      "text/plain": [
       "<Figure size 432x288 with 1 Axes>"
      ]
     },
     "metadata": {
      "needs_background": "light"
     },
     "output_type": "display_data"
    }
   ],
   "source": [
    "df.plot(kind='scatter', x ='LVEF', y='BNP')"
   ]
  },
  {
   "cell_type": "code",
   "execution_count": 39,
   "metadata": {},
   "outputs": [
    {
     "name": "stdout",
     "output_type": "stream",
     "text": [
      "   Age Sex  HgbA1c  Troponin   BNP  LVEF Hypertension Smoking 30 Day Readmit\n",
      "0   70   M     5.5      0.03   230    55          Yes      No             No\n",
      "1   80   F     6.0      0.02   320    50          Yes      No             No\n",
      "2   76   M     6.5      0.04   350    45          Yes      No             No\n",
      "3   81   F     6.7      0.02   400    50          Yes      No             No\n",
      "4   85   F     6.1      0.02   325    55          Yes      No             No\n",
      "5   45   M    13.0      1.20  1010    35          Yes     Yes            Yes\n",
      "6   50   M     8.0      1.30   890    30          Yes     Yes            Yes\n",
      "7   66   F     9.0      1.50   700    40          Yes      No            Yes\n",
      "8   68   M     7.2      1.19  1240    45          Yes      No            Yes\n",
      "9   55   M     7.9      1.60  2000    45          Yes      No            Yes\n"
     ]
    }
   ],
   "source": [
    "print(df)"
   ]
  },
  {
   "cell_type": "code",
   "execution_count": 40,
   "metadata": {},
   "outputs": [
    {
     "data": {
      "text/plain": [
       "0     72.106\n",
       "1     91.204\n",
       "2     95.508\n",
       "3    107.544\n",
       "4     94.224\n",
       "5    220.840\n",
       "6    195.860\n",
       "7    163.300\n",
       "8    272.278\n",
       "9    421.900\n",
       "dtype: float64"
      ]
     },
     "execution_count": 40,
     "metadata": {},
     "output_type": "execute_result"
    }
   ],
   "source": [
    "df.mean(axis=1, skipna = True)\n",
    "#calculate the mean of each row, skipping none values "
   ]
  },
  {
   "cell_type": "code",
   "execution_count": 41,
   "metadata": {},
   "outputs": [
    {
     "data": {
      "text/plain": [
       "Age          67.600\n",
       "HgbA1c        7.590\n",
       "Troponin      0.692\n",
       "BNP         746.500\n",
       "LVEF         45.000\n",
       "dtype: float64"
      ]
     },
     "execution_count": 41,
     "metadata": {},
     "output_type": "execute_result"
    }
   ],
   "source": [
    "df.mean(axis =0, skipna = True)\n",
    "#calculate the mean of each column, skipping none values"
   ]
  },
  {
   "cell_type": "code",
   "execution_count": 44,
   "metadata": {},
   "outputs": [
    {
     "name": "stdout",
     "output_type": "stream",
     "text": [
      "The standard deviations of the columns are: Age          13.721030\n",
      "HgbA1c        2.179934\n",
      "Troponin      0.712676\n",
      "BNP         558.828387\n",
      "LVEF          8.164966\n",
      "dtype: float64\n"
     ]
    }
   ],
   "source": [
    "import numpy as np\n",
    "answer = df.std()\n",
    "print(\"The standard deviations of the columns are:\", answer)\n"
   ]
  },
  {
   "cell_type": "code",
   "execution_count": 57,
   "metadata": {},
   "outputs": [
    {
     "name": "stdout",
     "output_type": "stream",
     "text": [
      "mean of BNP colum is  746.5\n"
     ]
    }
   ],
   "source": [
    "m = df[\"BNP\"].mean()\n",
    "print(\"mean of BNP column is \", m)"
   ]
  },
  {
   "cell_type": "code",
   "execution_count": 62,
   "metadata": {},
   "outputs": [
    {
     "name": "stdout",
     "output_type": "stream",
     "text": [
      "95% Confidence Interval of BNP is from  735.1058516945044  to  757.8941483054956\n"
     ]
    }
   ],
   "source": [
    "import numpy as np \n",
    "from scipy.stats import sem, t\n",
    "from numpy import mean\n",
    "confidence = 0.05\n",
    "data = BNP\n",
    "n = len(data)\n",
    "m = mean(data)\n",
    "std_err = sem(data)\n",
    "h = std_err * t.ppf((1+ confidence) / 2, n-1)\n",
    "\n",
    "start = m-h\n",
    "end = m+h\n",
    "print (\"95% Confidence Interval of BNP is from \", start, \" to \", end)\n",
    "\n",
    "\n"
   ]
  },
  {
   "cell_type": "code",
   "execution_count": 64,
   "metadata": {},
   "outputs": [
    {
     "name": "stdout",
     "output_type": "stream",
     "text": [
      "The standard deviation for BNP column is 558.8283874917832\n"
     ]
    }
   ],
   "source": [
    "answer1 = df['BNP'].std()\n",
    "print (\"The standard deviation for BNP column is\", answer1)"
   ]
  },
  {
   "cell_type": "code",
   "execution_count": null,
   "metadata": {},
   "outputs": [],
   "source": []
  }
 ],
 "metadata": {
  "kernelspec": {
   "display_name": "Python 3",
   "language": "python",
   "name": "python3"
  },
  "language_info": {
   "codemirror_mode": {
    "name": "ipython",
    "version": 3
   },
   "file_extension": ".py",
   "mimetype": "text/x-python",
   "name": "python",
   "nbconvert_exporter": "python",
   "pygments_lexer": "ipython3",
   "version": "3.7.6"
  }
 },
 "nbformat": 4,
 "nbformat_minor": 4
}
